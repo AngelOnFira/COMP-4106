{
 "cells": [
  {
   "cell_type": "code",
   "execution_count": 5,
   "metadata": {},
   "outputs": [],
   "source": [
    "#Constants\n",
    "SIGMA = 1.0\n",
    "MIN_STRENGTH = 6.0\n",
    "MAX_DEPTH = 5"
   ]
  },
  {
   "cell_type": "code",
   "execution_count": 6,
   "metadata": {},
   "outputs": [],
   "source": [
    "#Get the strength of a position\n",
    "\n",
    "def strength(position):\n",
    "    return ((3 * position / 2) + random.gauss(0, math.pow(SIGMA, 2)))"
   ]
  },
  {
   "cell_type": "code",
   "execution_count": 19,
   "metadata": {},
   "outputs": [
    {
     "name": "stdout",
     "output_type": "stream",
     "text": [
      "17.022087303\n"
     ]
    }
   ],
   "source": [
    "#Calculate max\n",
    "\n",
    "max = 0\n",
    "for i in range(0, 10000000):\n",
    "    num = strength(8)\n",
    "    if num > max:\n",
    "        max = num\n",
    "print max"
   ]
  },
  {
   "cell_type": "code",
   "execution_count": 8,
   "metadata": {},
   "outputs": [],
   "source": [
    "#Move the satellite to a new position\n",
    "\n",
    "def updatePosition(position):\n",
    "    return (position + 1) % 8"
   ]
  },
  {
   "cell_type": "code",
   "execution_count": 9,
   "metadata": {},
   "outputs": [],
   "source": [
    "#Get a permutation of an array\n",
    "\n",
    "def getPermutation():\n",
    "    array = [0, 1, 2, 3, 4, 5, 6, 7]\n",
    "    random.shuffle(array)\n",
    "    return array"
   ]
  },
  {
   "cell_type": "code",
   "execution_count": 10,
   "metadata": {},
   "outputs": [
    {
     "name": "stdout",
     "output_type": "stream",
     "text": [
      "0.982878816254\n"
     ]
    }
   ],
   "source": [
    "#Test to get avg strength\n",
    "\n",
    "num = 0\n",
    "for i in range(0, 10000):\n",
    "    num += strength(1)\n",
    "num /= 10000\n",
    "print num"
   ]
  },
  {
   "cell_type": "code",
   "execution_count": 11,
   "metadata": {},
   "outputs": [],
   "source": [
    "#Add 2 lists\n",
    "\n",
    "def addLists(first, second):\n",
    "    newList = [x + y for x, y in zip(first, second)]\n",
    "    return newList"
   ]
  },
  {
   "cell_type": "code",
   "execution_count": 12,
   "metadata": {},
   "outputs": [],
   "source": [
    "#Get bar graph data\n",
    "\n",
    "def getData(xIn, yIn):\n",
    "    data = [Bar(\n",
    "                x=xIn,\n",
    "                y=yIn\n",
    "        )]\n",
    "    return data"
   ]
  },
  {
   "cell_type": "code",
   "execution_count": 13,
   "metadata": {},
   "outputs": [],
   "source": [
    "#Normalize Python list\n",
    "\n",
    "def normList(raw):\n",
    "    norm = [float(i)/sum(raw) for i in raw]\n",
    "    return norm"
   ]
  },
  {
   "cell_type": "code",
   "execution_count": 14,
   "metadata": {},
   "outputs": [],
   "source": [
    "#Caculate valid\n",
    "\n",
    "def validPercent(strengthNum):\n",
    "    if (6.5 < strengthNum):\n",
    "        return True\n",
    "    return False"
   ]
  },
  {
   "cell_type": "code",
   "execution_count": 21,
   "metadata": {},
   "outputs": [
    {
     "name": "stdout",
     "output_type": "stream",
     "text": [
      "[0.18961, 0.2669099999999999, 0.19543, 0.29790999999999995, 0.04949999999999999, 0.00031, 0.00017000000000000007, 0.00016000000000000004]\n"
     ]
    },
    {
     "data": {
      "application/vnd.plotly.v1+json": {
       "data": [
        {
         "type": "bar",
         "x": [
          1,
          2,
          3,
          4,
          5,
          6,
          7,
          8
         ],
         "y": [
          0.18961,
          0.2669099999999999,
          0.19543,
          0.29790999999999995,
          0.04949999999999999,
          0.00031,
          0.00017000000000000007,
          0.00016000000000000004
         ]
        }
       ],
       "layout": {}
      },
      "text/html": [
       "<div id=\"e6e037bd-927c-435a-a3fa-519db16011a6\" style=\"height: 525px; width: 100%;\" class=\"plotly-graph-div\"></div><script type=\"text/javascript\">require([\"plotly\"], function(Plotly) { window.PLOTLYENV=window.PLOTLYENV || {};window.PLOTLYENV.BASE_URL=\"https://plot.ly\";Plotly.newPlot(\"e6e037bd-927c-435a-a3fa-519db16011a6\", [{\"y\": [0.18961, 0.2669099999999999, 0.19543, 0.29790999999999995, 0.04949999999999999, 0.00031, 0.00017000000000000007, 0.00016000000000000004], \"x\": [1, 2, 3, 4, 5, 6, 7, 8], \"type\": \"bar\"}], {}, {\"linkText\": \"Export to plot.ly\", \"showLink\": true})});</script>"
      ],
      "text/vnd.plotly.v1+html": [
       "<div id=\"e6e037bd-927c-435a-a3fa-519db16011a6\" style=\"height: 525px; width: 100%;\" class=\"plotly-graph-div\"></div><script type=\"text/javascript\">require([\"plotly\"], function(Plotly) { window.PLOTLYENV=window.PLOTLYENV || {};window.PLOTLYENV.BASE_URL=\"https://plot.ly\";Plotly.newPlot(\"e6e037bd-927c-435a-a3fa-519db16011a6\", [{\"y\": [0.18961, 0.2669099999999999, 0.19543, 0.29790999999999995, 0.04949999999999999, 0.00031, 0.00017000000000000007, 0.00016000000000000004], \"x\": [1, 2, 3, 4, 5, 6, 7, 8], \"type\": \"bar\"}], {}, {\"linkText\": \"Export to plot.ly\", \"showLink\": true})});</script>"
      ]
     },
     "metadata": {},
     "output_type": "display_data"
    }
   ],
   "source": [
    "#Tsetlin automata\n",
    "\n",
    "totalScore = [0]*8\n",
    "\n",
    "for tests in range(0, 100):\n",
    "\n",
    "    #Set up variables\n",
    "    position = 0\n",
    "    depth = 0\n",
    "    score = [0]*8\n",
    "    permutation = getPermutation()\n",
    "    \n",
    "    for converge in range(0, 1000):\n",
    "        score[permutation[position]] += 1\n",
    "        thisStrength = strength(permutation[position])\n",
    "        if validPercent(thisStrength):\n",
    "            if depth == 0:\n",
    "                position = updatePosition(position)\n",
    "            else:\n",
    "                depth -= 1\n",
    "        else:\n",
    "            if depth < MAX_DEPTH:\n",
    "                depth += 1\n",
    "    score = normList(score)\n",
    "    totalScore = addLists(totalScore, score)\n",
    "finalList = normList(totalScore)\n",
    "\n",
    "print finalList\n",
    "iplot(getData([1, 2, 3, 4, 5, 6, 7, 8], finalList))"
   ]
  },
  {
   "cell_type": "code",
   "execution_count": 16,
   "metadata": {},
   "outputs": [
    {
     "name": "stdout",
     "output_type": "stream",
     "text": [
      "[0.26200999999999997, 0.16786999999999996, 0.23257999999999998, 0.25936, 0.07619000000000001, 0.0015799999999999998, 0.0002000000000000001, 0.0002100000000000001]\n"
     ]
    },
    {
     "data": {
      "application/vnd.plotly.v1+json": {
       "data": [
        {
         "type": "bar",
         "x": [
          1,
          2,
          3,
          4,
          5,
          6,
          7,
          8
         ],
         "y": [
          0.26200999999999997,
          0.16786999999999996,
          0.23257999999999998,
          0.25936,
          0.07619000000000001,
          0.0015799999999999998,
          0.0002000000000000001,
          0.0002100000000000001
         ]
        }
       ],
       "layout": {}
      },
      "text/html": [
       "<div id=\"23facf25-b8a2-48a7-8e0b-37b191f0ce09\" style=\"height: 525px; width: 100%;\" class=\"plotly-graph-div\"></div><script type=\"text/javascript\">require([\"plotly\"], function(Plotly) { window.PLOTLYENV=window.PLOTLYENV || {};window.PLOTLYENV.BASE_URL=\"https://plot.ly\";Plotly.newPlot(\"23facf25-b8a2-48a7-8e0b-37b191f0ce09\", [{\"y\": [0.26200999999999997, 0.16786999999999996, 0.23257999999999998, 0.25936, 0.07619000000000001, 0.0015799999999999998, 0.0002000000000000001, 0.0002100000000000001], \"x\": [1, 2, 3, 4, 5, 6, 7, 8], \"type\": \"bar\"}], {}, {\"linkText\": \"Export to plot.ly\", \"showLink\": true})});</script>"
      ],
      "text/vnd.plotly.v1+html": [
       "<div id=\"23facf25-b8a2-48a7-8e0b-37b191f0ce09\" style=\"height: 525px; width: 100%;\" class=\"plotly-graph-div\"></div><script type=\"text/javascript\">require([\"plotly\"], function(Plotly) { window.PLOTLYENV=window.PLOTLYENV || {};window.PLOTLYENV.BASE_URL=\"https://plot.ly\";Plotly.newPlot(\"23facf25-b8a2-48a7-8e0b-37b191f0ce09\", [{\"y\": [0.26200999999999997, 0.16786999999999996, 0.23257999999999998, 0.25936, 0.07619000000000001, 0.0015799999999999998, 0.0002000000000000001, 0.0002100000000000001], \"x\": [1, 2, 3, 4, 5, 6, 7, 8], \"type\": \"bar\"}], {}, {\"linkText\": \"Export to plot.ly\", \"showLink\": true})});</script>"
      ]
     },
     "metadata": {},
     "output_type": "display_data"
    }
   ],
   "source": [
    "#Krinsky automata\n",
    "\n",
    "totalScore = [0]*8\n",
    "\n",
    "for tests in range(0, 100):\n",
    "\n",
    "    #Set up variables\n",
    "    position = 0\n",
    "    depth = 0\n",
    "    score = [0]*8\n",
    "    permutation = getPermutation()\n",
    "    \n",
    "    for converge in range(0, 1000):\n",
    "        score[permutation[position]] += 1\n",
    "        thisStrength = strength(permutation[position])\n",
    "        if validPercent(thisStrength):\n",
    "            if depth == 0:\n",
    "                position = updatePosition(position)\n",
    "            else:\n",
    "                depth -= 1\n",
    "        else:\n",
    "            depth = MAX_DEPTH\n",
    "    score = normList(score)\n",
    "    totalScore = addLists(totalScore, score)\n",
    "finalList = normList(totalScore)\n",
    "\n",
    "print finalList\n",
    "iplot(getData([1, 2, 3, 4, 5, 6, 7, 8], finalList))"
   ]
  },
  {
   "cell_type": "code",
   "execution_count": 17,
   "metadata": {},
   "outputs": [
    {
     "name": "stdout",
     "output_type": "stream",
     "text": [
      "[0.20924999999999996, 0.23456999999999997, 0.2592899999999999, 0.23463999999999996, 0.059999999999999984, 0.00135, 0.00042, 0.00047999999999999996]\n"
     ]
    },
    {
     "data": {
      "application/vnd.plotly.v1+json": {
       "data": [
        {
         "type": "bar",
         "x": [
          1,
          2,
          3,
          4,
          5,
          6,
          7,
          8
         ],
         "y": [
          0.20924999999999996,
          0.23456999999999997,
          0.2592899999999999,
          0.23463999999999996,
          0.059999999999999984,
          0.00135,
          0.00042,
          0.00047999999999999996
         ]
        }
       ],
       "layout": {}
      },
      "text/html": [
       "<div id=\"230817dc-bbfe-436b-acac-85373c784cdb\" style=\"height: 525px; width: 100%;\" class=\"plotly-graph-div\"></div><script type=\"text/javascript\">require([\"plotly\"], function(Plotly) { window.PLOTLYENV=window.PLOTLYENV || {};window.PLOTLYENV.BASE_URL=\"https://plot.ly\";Plotly.newPlot(\"230817dc-bbfe-436b-acac-85373c784cdb\", [{\"y\": [0.20924999999999996, 0.23456999999999997, 0.2592899999999999, 0.23463999999999996, 0.059999999999999984, 0.00135, 0.00042, 0.00047999999999999996], \"x\": [1, 2, 3, 4, 5, 6, 7, 8], \"type\": \"bar\"}], {}, {\"linkText\": \"Export to plot.ly\", \"showLink\": true})});</script>"
      ],
      "text/vnd.plotly.v1+html": [
       "<div id=\"230817dc-bbfe-436b-acac-85373c784cdb\" style=\"height: 525px; width: 100%;\" class=\"plotly-graph-div\"></div><script type=\"text/javascript\">require([\"plotly\"], function(Plotly) { window.PLOTLYENV=window.PLOTLYENV || {};window.PLOTLYENV.BASE_URL=\"https://plot.ly\";Plotly.newPlot(\"230817dc-bbfe-436b-acac-85373c784cdb\", [{\"y\": [0.20924999999999996, 0.23456999999999997, 0.2592899999999999, 0.23463999999999996, 0.059999999999999984, 0.00135, 0.00042, 0.00047999999999999996], \"x\": [1, 2, 3, 4, 5, 6, 7, 8], \"type\": \"bar\"}], {}, {\"linkText\": \"Export to plot.ly\", \"showLink\": true})});</script>"
      ]
     },
     "metadata": {},
     "output_type": "display_data"
    }
   ],
   "source": [
    "#Krylov automata\n",
    "\n",
    "totalScore = [0]*8\n",
    "\n",
    "for tests in range(0, 100):\n",
    "\n",
    "    #Set up variables\n",
    "    position = 0\n",
    "    depth = 0\n",
    "    score = [0]*8\n",
    "    permutation = getPermutation()\n",
    "    \n",
    "    for converge in range(0, 1000):\n",
    "        score[permutation[position]] += 1\n",
    "        thisStrength = strength(permutation[position])\n",
    "        if random.random() < 0.5:\n",
    "            if validPercent(thisStrength):\n",
    "                if depth == 0:\n",
    "                    position = updatePosition(position)\n",
    "                else:\n",
    "                    depth -= 1\n",
    "            else:\n",
    "                if depth < MAX_DEPTH:\n",
    "                    depth += 1\n",
    "    score = normList(score)\n",
    "    totalScore = addLists(totalScore, score)\n",
    "finalList = normList(totalScore)\n",
    "\n",
    "print finalList\n",
    "iplot(getData([1, 2, 3, 4, 5, 6, 7, 8], finalList))"
   ]
  },
  {
   "cell_type": "code",
   "execution_count": 18,
   "metadata": {},
   "outputs": [
    {
     "data": {
      "application/vnd.plotly.v1+json": {
       "data": [
        {
         "type": "bar",
         "x": [
          1,
          2,
          3,
          4,
          5,
          6,
          7,
          8
         ],
         "y": [
          0,
          1,
          5,
          4,
          26,
          64,
          0,
          0
         ]
        }
       ],
       "layout": {}
      },
      "text/html": [
       "<div id=\"1e3fd219-9320-4b66-bbe8-c9560d0c049e\" style=\"height: 525px; width: 100%;\" class=\"plotly-graph-div\"></div><script type=\"text/javascript\">require([\"plotly\"], function(Plotly) { window.PLOTLYENV=window.PLOTLYENV || {};window.PLOTLYENV.BASE_URL=\"https://plot.ly\";Plotly.newPlot(\"1e3fd219-9320-4b66-bbe8-c9560d0c049e\", [{\"y\": [0, 1, 5, 4, 26, 64, 0, 0], \"x\": [1, 2, 3, 4, 5, 6, 7, 8], \"type\": \"bar\"}], {}, {\"linkText\": \"Export to plot.ly\", \"showLink\": true})});</script>"
      ],
      "text/vnd.plotly.v1+html": [
       "<div id=\"1e3fd219-9320-4b66-bbe8-c9560d0c049e\" style=\"height: 525px; width: 100%;\" class=\"plotly-graph-div\"></div><script type=\"text/javascript\">require([\"plotly\"], function(Plotly) { window.PLOTLYENV=window.PLOTLYENV || {};window.PLOTLYENV.BASE_URL=\"https://plot.ly\";Plotly.newPlot(\"1e3fd219-9320-4b66-bbe8-c9560d0c049e\", [{\"y\": [0, 1, 5, 4, 26, 64, 0, 0], \"x\": [1, 2, 3, 4, 5, 6, 7, 8], \"type\": \"bar\"}], {}, {\"linkText\": \"Export to plot.ly\", \"showLink\": true})});</script>"
      ]
     },
     "metadata": {},
     "output_type": "display_data"
    }
   ],
   "source": [
    "#LRI automata\n",
    "\n",
    "position = 1\n",
    "depth = 0\n",
    "score = [0]*8\n",
    "permutation = getPermutation()\n",
    "\n",
    "for i in range(0, 100):\n",
    "    score[position] += 1\n",
    "    thisStrength = strength(position)\n",
    "    if thisStrength < MIN_STRENGTH:\n",
    "        if random.random() < 0.5:\n",
    "            if depth == 0:\n",
    "                position = updatePosition(position)\n",
    "            else:\n",
    "                depth -= 1\n",
    "    else:\n",
    "        if depth < MAX_DEPTH:\n",
    "            depth += 1\n",
    "    \n",
    "iplot(getData([1, 2, 3, 4, 5, 6, 7, 8], score))"
   ]
  }
 ],
 "metadata": {
  "kernelspec": {
   "display_name": "Python 2",
   "language": "python",
   "name": "python2"
  },
  "language_info": {
   "codemirror_mode": {
    "name": "ipython",
    "version": 2
   },
   "file_extension": ".py",
   "mimetype": "text/x-python",
   "name": "python",
   "nbconvert_exporter": "python",
   "pygments_lexer": "ipython2",
   "version": "2.7.13"
  }
 },
 "nbformat": 4,
 "nbformat_minor": 2
}

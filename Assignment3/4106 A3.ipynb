{
 "cells": [
  {
   "cell_type": "code",
   "execution_count": 17,
   "metadata": {},
   "outputs": [],
   "source": [
    "# Import\n",
    "import random\n",
    "import math"
   ]
  },
  {
   "cell_type": "code",
   "execution_count": 18,
   "metadata": {},
   "outputs": [],
   "source": [
    "#Constants\n",
    "SIGMA = 1.0\n",
    "MIN_STRENGTH = 6.0\n",
    "MAX_DEPTH = 5"
   ]
  },
  {
   "cell_type": "code",
   "execution_count": 19,
   "metadata": {},
   "outputs": [],
   "source": [
    "#Get the strength of a position\n",
    "\n",
    "def strength(position):\n",
    "    return ((3 * position / 2) + random.gauss(0, math.pow(SIGMA, 2)))"
   ]
  },
  {
   "cell_type": "code",
   "execution_count": null,
   "metadata": {},
   "outputs": [],
   "source": [
    "#Calculate max\n",
    "\n",
    "max = 0\n",
    "for i in range(0, 10000):\n",
    "    num = strength(8)\n",
    "    if num > max:\n",
    "        max = num\n",
    "print max"
   ]
  },
  {
   "cell_type": "code",
   "execution_count": 21,
   "metadata": {},
   "outputs": [],
   "source": [
    "#Move the satellite to a new position\n",
    "\n",
    "def updatePosition(position):\n",
    "    return (position + 1) % 8"
   ]
  },
  {
   "cell_type": "code",
   "execution_count": 22,
   "metadata": {},
   "outputs": [],
   "source": [
    "#Get a permutation of an array\n",
    "\n",
    "def getPermutation():\n",
    "    array = [0, 1, 2, 3, 4, 5, 6, 7]\n",
    "    random.shuffle(array)\n",
    "    return array"
   ]
  },
  {
   "cell_type": "code",
   "execution_count": null,
   "metadata": {},
   "outputs": [],
   "source": [
    "#Test to get avg strength\n",
    "\n",
    "num = 0\n",
    "for i in range(0, 10000):\n",
    "    num += strength(1)\n",
    "num /= 10000\n",
    "print num"
   ]
  },
  {
   "cell_type": "code",
   "execution_count": 24,
   "metadata": {},
   "outputs": [],
   "source": [
    "#Add 2 lists\n",
    "\n",
    "def addLists(first, second):\n",
    "    newList = [x + y for x, y in zip(first, second)]\n",
    "    return newList"
   ]
  },
  {
   "cell_type": "code",
   "execution_count": 25,
   "metadata": {},
   "outputs": [],
   "source": [
    "#Get bar graph data\n",
    "\n",
    "def getData(xIn, yIn):\n",
    "    data = [Bar(\n",
    "                x=xIn,\n",
    "                y=yIn\n",
    "        )]\n",
    "    return data"
   ]
  },
  {
   "cell_type": "code",
   "execution_count": 26,
   "metadata": {},
   "outputs": [],
   "source": [
    "#Normalize Python list\n",
    "\n",
    "def normList(raw):\n",
    "    norm = [float(i)/sum(raw) for i in raw]\n",
    "    return norm"
   ]
  },
  {
   "cell_type": "code",
   "execution_count": 27,
   "metadata": {},
   "outputs": [],
   "source": [
    "#Caculate valid\n",
    "\n",
    "def validPercent(strengthNum):\n",
    "    if (6.5 < strengthNum):\n",
    "        return True\n",
    "    return False"
   ]
  },
  {
   "cell_type": "code",
   "execution_count": 28,
   "metadata": {},
   "outputs": [
    {
     "name": "stdout",
     "output_type": "stream",
     "text": [
      "[0.17041, 0.26965, 0.25609000000000004, 0.25598999999999994, 0.04692000000000002, 0.00047000000000000015, 0.00021000000000000012, 0.00026000000000000014]\n"
     ]
    },
    {
     "ename": "NameError",
     "evalue": "name 'iplot' is not defined",
     "output_type": "error",
     "traceback": [
      "\u001b[0;31m---------------------------------------------------------------------------\u001b[0m",
      "\u001b[0;31mNameError\u001b[0m                                 Traceback (most recent call last)",
      "\u001b[0;32m<ipython-input-28-9088192ba740>\u001b[0m in \u001b[0;36m<module>\u001b[0;34m()\u001b[0m\n\u001b[1;32m     27\u001b[0m \u001b[0;34m\u001b[0m\u001b[0m\n\u001b[1;32m     28\u001b[0m \u001b[0;32mprint\u001b[0m \u001b[0mfinalList\u001b[0m\u001b[0;34m\u001b[0m\u001b[0m\n\u001b[0;32m---> 29\u001b[0;31m \u001b[0miplot\u001b[0m\u001b[0;34m(\u001b[0m\u001b[0mgetData\u001b[0m\u001b[0;34m(\u001b[0m\u001b[0;34m[\u001b[0m\u001b[0;36m1\u001b[0m\u001b[0;34m,\u001b[0m \u001b[0;36m2\u001b[0m\u001b[0;34m,\u001b[0m \u001b[0;36m3\u001b[0m\u001b[0;34m,\u001b[0m \u001b[0;36m4\u001b[0m\u001b[0;34m,\u001b[0m \u001b[0;36m5\u001b[0m\u001b[0;34m,\u001b[0m \u001b[0;36m6\u001b[0m\u001b[0;34m,\u001b[0m \u001b[0;36m7\u001b[0m\u001b[0;34m,\u001b[0m \u001b[0;36m8\u001b[0m\u001b[0;34m]\u001b[0m\u001b[0;34m,\u001b[0m \u001b[0mfinalList\u001b[0m\u001b[0;34m)\u001b[0m\u001b[0;34m)\u001b[0m\u001b[0;34m\u001b[0m\u001b[0m\n\u001b[0m",
      "\u001b[0;31mNameError\u001b[0m: name 'iplot' is not defined"
     ]
    }
   ],
   "source": [
    "#Tsetlin automata\n",
    "\n",
    "totalScore = [0]*8\n",
    "\n",
    "for tests in range(0, 100):\n",
    "\n",
    "    #Set up variables\n",
    "    position = 0\n",
    "    depth = 0\n",
    "    score = [0]*8\n",
    "    permutation = getPermutation()\n",
    "    \n",
    "    for converge in range(0, 1000):\n",
    "        score[permutation[position]] += 1\n",
    "        thisStrength = strength(permutation[position])\n",
    "        if validPercent(thisStrength):\n",
    "            if depth == 0:\n",
    "                position = updatePosition(position)\n",
    "            else:\n",
    "                depth -= 1\n",
    "        else:\n",
    "            if depth < MAX_DEPTH:\n",
    "                depth += 1\n",
    "    score = normList(score)\n",
    "    totalScore = addLists(totalScore, score)\n",
    "finalList = normList(totalScore)\n",
    "\n",
    "print finalList\n",
    "iplot(getData([1, 2, 3, 4, 5, 6, 7, 8], finalList))"
   ]
  },
  {
   "cell_type": "code",
   "execution_count": null,
   "metadata": {},
   "outputs": [],
   "source": [
    "#Krinsky automata\n",
    "\n",
    "totalScore = [0]*8\n",
    "\n",
    "for tests in range(0, 100):\n",
    "\n",
    "    #Set up variables\n",
    "    position = 0\n",
    "    depth = 0\n",
    "    score = [0]*8\n",
    "    permutation = getPermutation()\n",
    "    \n",
    "    for converge in range(0, 1000):\n",
    "        score[permutation[position]] += 1\n",
    "        thisStrength = strength(permutation[position])\n",
    "        if validPercent(thisStrength):\n",
    "            if depth == 0:\n",
    "                position = updatePosition(position)\n",
    "            else:\n",
    "                depth -= 1\n",
    "        else:\n",
    "            depth = MAX_DEPTH\n",
    "    score = normList(score)\n",
    "    totalScore = addLists(totalScore, score)\n",
    "finalList = normList(totalScore)\n",
    "\n",
    "print finalList\n",
    "iplot(getData([1, 2, 3, 4, 5, 6, 7, 8], finalList))"
   ]
  },
  {
   "cell_type": "code",
   "execution_count": null,
   "metadata": {},
   "outputs": [],
   "source": [
    "#Krylov automata\n",
    "\n",
    "totalScore = [0]*8\n",
    "\n",
    "for tests in range(0, 100):\n",
    "\n",
    "    #Set up variables\n",
    "    position = 0\n",
    "    depth = 0\n",
    "    score = [0]*8\n",
    "    permutation = getPermutation()\n",
    "    \n",
    "    for converge in range(0, 1000):\n",
    "        score[permutation[position]] += 1\n",
    "        thisStrength = strength(permutation[position])\n",
    "        if random.random() < 0.5:\n",
    "            if validPercent(thisStrength):\n",
    "                if depth == 0:\n",
    "                    position = updatePosition(position)\n",
    "                else:\n",
    "                    depth -= 1\n",
    "            else:\n",
    "                if depth < MAX_DEPTH:\n",
    "                    depth += 1\n",
    "    score = normList(score)\n",
    "    totalScore = addLists(totalScore, score)\n",
    "finalList = normList(totalScore)\n",
    "\n",
    "print finalList\n",
    "iplot(getData([1, 2, 3, 4, 5, 6, 7, 8], finalList))"
   ]
  },
  {
   "cell_type": "code",
   "execution_count": null,
   "metadata": {},
   "outputs": [],
   "source": [
    "#LRI automata\n",
    "\n",
    "position = 1\n",
    "depth = 0\n",
    "score = [0]*8\n",
    "permutation = getPermutation()\n",
    "\n",
    "for i in range(0, 100):\n",
    "    score[position] += 1\n",
    "    thisStrength = strength(position)\n",
    "    if thisStrength < MIN_STRENGTH:\n",
    "        if random.random() < 0.5:\n",
    "            if depth == 0:\n",
    "                position = updatePosition(position)\n",
    "            else:\n",
    "                depth -= 1\n",
    "    else:\n",
    "        if depth < MAX_DEPTH:\n",
    "            depth += 1\n",
    "    \n",
    "iplot(getData([1, 2, 3, 4, 5, 6, 7, 8], score))"
   ]
  }
 ],
 "metadata": {
  "kernelspec": {
   "display_name": "Python 2",
   "language": "python",
   "name": "python2"
  },
  "language_info": {
   "codemirror_mode": {
    "name": "ipython",
    "version": 2
   },
   "file_extension": ".py",
   "mimetype": "text/x-python",
   "name": "python",
   "nbconvert_exporter": "python",
   "pygments_lexer": "ipython2",
   "version": "2.7.12"
  }
 },
 "nbformat": 4,
 "nbformat_minor": 2
}

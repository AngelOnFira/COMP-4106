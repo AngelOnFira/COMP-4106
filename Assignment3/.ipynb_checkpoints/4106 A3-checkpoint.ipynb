{
 "cells": [
  {
   "cell_type": "code",
   "execution_count": 7,
   "metadata": {},
   "outputs": [],
   "source": [
    "# Import\n",
    "import random\n",
    "import math"
   ]
  },
  {
   "cell_type": "code",
   "execution_count": 10,
   "metadata": {},
   "outputs": [],
   "source": [
    "#Constants\n",
    "SIGMA = 1.0\n",
    "MIN_STRENGTH = 6.0\n",
    "MAX_DEPTH = 5"
   ]
  },
  {
   "cell_type": "code",
   "execution_count": 9,
   "metadata": {},
   "outputs": [],
   "source": [
    "#Get the strength of a position\n",
    "\n",
    "def strength(position):\n",
    "    return ((3 * position / 2) + random.gauss(0, math.pow(SIGMA, 2)))"
   ]
  },
  {
   "cell_type": "code",
   "execution_count": 8,
   "metadata": {},
   "outputs": [
    {
     "name": "stdout",
     "output_type": "stream",
     "text": [
      "17.0540425307\n"
     ]
    }
   ],
   "source": [
    "#Calculate max\n",
    "\n",
    "max = 0\n",
    "for i in range(0, 10000000):\n",
    "    num = strength(8)\n",
    "    if num > max:\n",
    "        max = num\n",
    "print max"
   ]
  },
  {
   "cell_type": "code",
   "execution_count": null,
   "metadata": {},
   "outputs": [],
   "source": [
    "#Move the satellite to a new position\n",
    "\n",
    "def updatePosition(position):\n",
    "    return (position + 1) % 8"
   ]
  },
  {
   "cell_type": "code",
   "execution_count": null,
   "metadata": {},
   "outputs": [],
   "source": [
    "#Get a permutation of an array\n",
    "\n",
    "def getPermutation():\n",
    "    array = [0, 1, 2, 3, 4, 5, 6, 7]\n",
    "    random.shuffle(array)\n",
    "    return array"
   ]
  },
  {
   "cell_type": "code",
   "execution_count": null,
   "metadata": {},
   "outputs": [],
   "source": [
    "#Test to get avg strength\n",
    "\n",
    "num = 0\n",
    "for i in range(0, 10000):\n",
    "    num += strength(1)\n",
    "num /= 10000\n",
    "print num"
   ]
  },
  {
   "cell_type": "code",
   "execution_count": null,
   "metadata": {},
   "outputs": [],
   "source": [
    "#Add 2 lists\n",
    "\n",
    "def addLists(first, second):\n",
    "    newList = [x + y for x, y in zip(first, second)]\n",
    "    return newList"
   ]
  },
  {
   "cell_type": "code",
   "execution_count": null,
   "metadata": {},
   "outputs": [],
   "source": [
    "#Get bar graph data\n",
    "\n",
    "def getData(xIn, yIn):\n",
    "    data = [Bar(\n",
    "                x=xIn,\n",
    "                y=yIn\n",
    "        )]\n",
    "    return data"
   ]
  },
  {
   "cell_type": "code",
   "execution_count": null,
   "metadata": {},
   "outputs": [],
   "source": [
    "#Normalize Python list\n",
    "\n",
    "def normList(raw):\n",
    "    norm = [float(i)/sum(raw) for i in raw]\n",
    "    return norm"
   ]
  },
  {
   "cell_type": "code",
   "execution_count": null,
   "metadata": {},
   "outputs": [],
   "source": [
    "#Caculate valid\n",
    "\n",
    "def validPercent(strengthNum):\n",
    "    if (6.5 < strengthNum):\n",
    "        return True\n",
    "    return False"
   ]
  },
  {
   "cell_type": "code",
   "execution_count": 11,
   "metadata": {},
   "outputs": [
    {
     "ename": "NameError",
     "evalue": "name 'getPermutation' is not defined",
     "output_type": "error",
     "traceback": [
      "\u001b[0;31m---------------------------------------------------------------------------\u001b[0m",
      "\u001b[0;31mNameError\u001b[0m                                 Traceback (most recent call last)",
      "\u001b[0;32m<ipython-input-11-9088192ba740>\u001b[0m in \u001b[0;36m<module>\u001b[0;34m()\u001b[0m\n\u001b[1;32m      9\u001b[0m     \u001b[0mdepth\u001b[0m \u001b[0;34m=\u001b[0m \u001b[0;36m0\u001b[0m\u001b[0;34m\u001b[0m\u001b[0m\n\u001b[1;32m     10\u001b[0m     \u001b[0mscore\u001b[0m \u001b[0;34m=\u001b[0m \u001b[0;34m[\u001b[0m\u001b[0;36m0\u001b[0m\u001b[0;34m]\u001b[0m\u001b[0;34m*\u001b[0m\u001b[0;36m8\u001b[0m\u001b[0;34m\u001b[0m\u001b[0m\n\u001b[0;32m---> 11\u001b[0;31m     \u001b[0mpermutation\u001b[0m \u001b[0;34m=\u001b[0m \u001b[0mgetPermutation\u001b[0m\u001b[0;34m(\u001b[0m\u001b[0;34m)\u001b[0m\u001b[0;34m\u001b[0m\u001b[0m\n\u001b[0m\u001b[1;32m     12\u001b[0m \u001b[0;34m\u001b[0m\u001b[0m\n\u001b[1;32m     13\u001b[0m     \u001b[0;32mfor\u001b[0m \u001b[0mconverge\u001b[0m \u001b[0;32min\u001b[0m \u001b[0mrange\u001b[0m\u001b[0;34m(\u001b[0m\u001b[0;36m0\u001b[0m\u001b[0;34m,\u001b[0m \u001b[0;36m1000\u001b[0m\u001b[0;34m)\u001b[0m\u001b[0;34m:\u001b[0m\u001b[0;34m\u001b[0m\u001b[0m\n",
      "\u001b[0;31mNameError\u001b[0m: name 'getPermutation' is not defined"
     ]
    }
   ],
   "source": [
    "#Tsetlin automata\n",
    "\n",
    "totalScore = [0]*8\n",
    "\n",
    "for tests in range(0, 100):\n",
    "\n",
    "    #Set up variables\n",
    "    position = 0\n",
    "    depth = 0\n",
    "    score = [0]*8\n",
    "    permutation = getPermutation()\n",
    "    \n",
    "    for converge in range(0, 1000):\n",
    "        score[permutation[position]] += 1\n",
    "        thisStrength = strength(permutation[position])\n",
    "        if validPercent(thisStrength):\n",
    "            if depth == 0:\n",
    "                position = updatePosition(position)\n",
    "            else:\n",
    "                depth -= 1\n",
    "        else:\n",
    "            if depth < MAX_DEPTH:\n",
    "                depth += 1\n",
    "    score = normList(score)\n",
    "    totalScore = addLists(totalScore, score)\n",
    "finalList = normList(totalScore)\n",
    "\n",
    "print finalList\n",
    "iplot(getData([1, 2, 3, 4, 5, 6, 7, 8], finalList))"
   ]
  },
  {
   "cell_type": "code",
   "execution_count": null,
   "metadata": {},
   "outputs": [],
   "source": [
    "#Krinsky automata\n",
    "\n",
    "totalScore = [0]*8\n",
    "\n",
    "for tests in range(0, 100):\n",
    "\n",
    "    #Set up variables\n",
    "    position = 0\n",
    "    depth = 0\n",
    "    score = [0]*8\n",
    "    permutation = getPermutation()\n",
    "    \n",
    "    for converge in range(0, 1000):\n",
    "        score[permutation[position]] += 1\n",
    "        thisStrength = strength(permutation[position])\n",
    "        if validPercent(thisStrength):\n",
    "            if depth == 0:\n",
    "                position = updatePosition(position)\n",
    "            else:\n",
    "                depth -= 1\n",
    "        else:\n",
    "            depth = MAX_DEPTH\n",
    "    score = normList(score)\n",
    "    totalScore = addLists(totalScore, score)\n",
    "finalList = normList(totalScore)\n",
    "\n",
    "print finalList\n",
    "iplot(getData([1, 2, 3, 4, 5, 6, 7, 8], finalList))"
   ]
  },
  {
   "cell_type": "code",
   "execution_count": null,
   "metadata": {},
   "outputs": [],
   "source": [
    "#Krylov automata\n",
    "\n",
    "totalScore = [0]*8\n",
    "\n",
    "for tests in range(0, 100):\n",
    "\n",
    "    #Set up variables\n",
    "    position = 0\n",
    "    depth = 0\n",
    "    score = [0]*8\n",
    "    permutation = getPermutation()\n",
    "    \n",
    "    for converge in range(0, 1000):\n",
    "        score[permutation[position]] += 1\n",
    "        thisStrength = strength(permutation[position])\n",
    "        if random.random() < 0.5:\n",
    "            if validPercent(thisStrength):\n",
    "                if depth == 0:\n",
    "                    position = updatePosition(position)\n",
    "                else:\n",
    "                    depth -= 1\n",
    "            else:\n",
    "                if depth < MAX_DEPTH:\n",
    "                    depth += 1\n",
    "    score = normList(score)\n",
    "    totalScore = addLists(totalScore, score)\n",
    "finalList = normList(totalScore)\n",
    "\n",
    "print finalList\n",
    "iplot(getData([1, 2, 3, 4, 5, 6, 7, 8], finalList))"
   ]
  },
  {
   "cell_type": "code",
   "execution_count": null,
   "metadata": {},
   "outputs": [],
   "source": [
    "#LRI automata\n",
    "\n",
    "position = 1\n",
    "depth = 0\n",
    "score = [0]*8\n",
    "permutation = getPermutation()\n",
    "\n",
    "for i in range(0, 100):\n",
    "    score[position] += 1\n",
    "    thisStrength = strength(position)\n",
    "    if thisStrength < MIN_STRENGTH:\n",
    "        if random.random() < 0.5:\n",
    "            if depth == 0:\n",
    "                position = updatePosition(position)\n",
    "            else:\n",
    "                depth -= 1\n",
    "    else:\n",
    "        if depth < MAX_DEPTH:\n",
    "            depth += 1\n",
    "    \n",
    "iplot(getData([1, 2, 3, 4, 5, 6, 7, 8], score))"
   ]
  }
 ],
 "metadata": {
  "kernelspec": {
   "display_name": "Python 2",
   "language": "python",
   "name": "python2"
  }
 },
 "nbformat": 4,
 "nbformat_minor": 2
}

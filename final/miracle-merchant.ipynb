{
 "cells": [
  {
   "cell_type": "code",
   "execution_count": 2,
   "metadata": {},
   "outputs": [],
   "source": [
    "# Imports\n",
    "\n",
    "from random import shuffle\n",
    "import csv\n",
    "import re"
   ]
  },
  {
   "cell_type": "code",
   "execution_count": 8,
   "metadata": {},
   "outputs": [
    {
     "data": {
      "text/plain": [
       "['G', 'Y', 'Y', 'B', 'D', 'B', 'R', 'Y', 'G', 'G', 'R', 'R', 'B']"
      ]
     },
     "execution_count": 8,
     "metadata": {},
     "output_type": "execute_result"
    }
   ],
   "source": [
    "# Make input lists\n",
    "\n",
    "startOrder = ['B', 'B', 'B', 'G', 'G', 'G', 'Y', 'Y', 'Y', 'R', 'R', 'R', 'D']\n",
    "\n",
    "needOrder = startOrder\n",
    "while (needOrder[0] == 'D' or needOrder[-1] == 'D'):\n",
    "    shuffle(needOrder)\n",
    "\n",
    "loveOrder = startOrder\n",
    "while (loveOrder[0] == 'D' or loveOrder[-1] == 'D'):\n",
    "    shuffle(loveOrder)\n",
    "    \n",
    "needOrder"
   ]
  },
  {
   "cell_type": "code",
   "execution_count": 4,
   "metadata": {},
   "outputs": [],
   "source": [
    "# Read a CSV to a list\n",
    "\n",
    "def readCSV(filename):\n",
    "    with open(filename, 'rb') as f:\n",
    "        reader = csv.reader(f)\n",
    "        your_list = list(reader)\n",
    "    return your_list"
   ]
  },
  {
   "cell_type": "code",
   "execution_count": 12,
   "metadata": {},
   "outputs": [
    {
     "name": "stdout",
     "output_type": "stream",
     "text": [
      "{'D**': 1, '**Y': 3, 'Y**': 1, 'B**': 2, '**R': 2, 'G**': 1, '**G': 2, '**D': 1, 'R**': 1, '**B': 0}\n",
      "2\n",
      "3\n",
      "4\n",
      "2\n",
      "3\n"
     ]
    }
   ],
   "source": [
    "game = readCSV(\"game.csv\")\n",
    "\n",
    "dictCards = {}\n",
    "for turn in game:\n",
    "    for color in turn:\n",
    "        #regexp = re.compile(r'\\*[BGYRD]\\*')\n",
    "        regexp = re.compile(r'[BGYRD]\\*\\*')\n",
    "        if regexp.search(color):\n",
    "            if color in dictCards:\n",
    "                dictCards[color] += 1\n",
    "            else:\n",
    "                dictCards[color] = 0\n",
    "\n",
    "for turn in game:\n",
    "    for color in turn:\n",
    "        #regexp = re.compile(r'\\*[BGYRD]\\*')\n",
    "        regexp = re.compile(r'\\*\\*[BGYRD]')\n",
    "        if regexp.search(color):\n",
    "            if color in dictCards:\n",
    "                dictCards[color] += 1\n",
    "            else:\n",
    "                dictCards[color] = 0\n",
    "\n",
    "print dictCards\n",
    "print dictCards['**D'] + dictCards['D**']\n",
    "print dictCards['**R'] + dictCards['R**']\n",
    "print dictCards['**Y'] + dictCards['Y**']\n",
    "print dictCards['**B'] + dictCards['B**']\n",
    "print dictCards['**G'] + dictCards['G**']"
   ]
  },
  {
   "cell_type": "code",
   "execution_count": 27,
   "metadata": {},
   "outputs": [],
   "source": [
    "# Play a card onto the table\n",
    "# in - array of cards on the table\n",
    "# in - card just played\n",
    "# in - position that the card was played at\n",
    "# out - updated cards on table\n",
    "\n",
    "def playCard(playedCards, currCard, position):\n",
    "    \n",
    "    cardColor = currCard[1]\n",
    "    cardLeft = currCard[2]\n",
    "    cardMiddle = currCard[3]\n",
    "    cardRight = currCard[4]\n",
    "    playedCards.insert(position, currCard)\n",
    "    \n",
    "    oldPoints = playedCards\n",
    "    \n",
    "    if (len(playedCards) > 1):\n",
    "        if (position > 0):\n",
    "            if (playedCards[position - 1][1] == cardLeft):\n",
    "                playedCards[position][0] += oldPoints[position - 1][0]\n",
    "        if (position < len(playedCards) - 1):\n",
    "            if (playedCards[position + 1][1] == cardRight):\n",
    "                playedCards[position][0] += oldPoints[position + 1][0]\n",
    "    \n",
    "    # Go through each card left to right\n",
    "    for i, card in enumerate(playedCards):\n",
    "        \n",
    "        # See if the middle of the card is the card just added\n",
    "        if (card[1] == cardMiddle):\n",
    "            card[0] += 1\n",
    "            \n",
    "        # If we are looking at the card to the left of the\n",
    "        # card just played\n",
    "        if (i == position - 1):\n",
    "            if (playedCards[i - 1][4] == cardColor):\n",
    "                card[0] += oldPoints[position - 1][0]\n",
    "        \n",
    "        # If we are looking at the card to the right of the\n",
    "        # card just played\n",
    "        if (i == position + 1):\n",
    "            if (playedCards[i - 1][2] == cardColor):\n",
    "                card[0] += oldPoints[position + 1][0]\n",
    "                \n",
    "    return playedCards"
   ]
  },
  {
   "cell_type": "code",
   "execution_count": 34,
   "metadata": {},
   "outputs": [],
   "source": [
    "# Verify test\n",
    "\n",
    "def unitTest(result, verify):\n",
    "    if (not result == verify):\n",
    "        raise ValueError('Test Failed.\\n' + str(result) + '\\n!=\\n' + str(verify))"
   ]
  },
  {
   "cell_type": "code",
   "execution_count": 36,
   "metadata": {},
   "outputs": [],
   "source": [
    "# Unit tests\n",
    "\n",
    "test1 = playCard([], [1, 'R', 'N', 'N', 'G'], 0)\n",
    "test1 = playCard(test1, [1, 'B', 'R', 'N', 'N'], 1)\n",
    "test1 = playCard(test1, [1, 'G', 'B', 'N', 'R'], 0)\n",
    "test1 = playCard(test1, [1, 'Y', 'N', 'N', 'B'], 2)\n",
    "\n",
    "test1Solution = [[2, 'G', 'B', 'N', 'R'], [1, 'R', 'N', 'N', 'G'], [3, 'Y', 'N', 'N', 'B'], [2, 'B', 'R', 'N', 'N']]\n",
    "unitTest(test1, test1Solution)"
   ]
  }
 ],
 "metadata": {
  "kernelspec": {
   "display_name": "Python 2",
   "language": "python",
   "name": "python2"
  },
  "language_info": {
   "codemirror_mode": {
    "name": "ipython",
    "version": 2
   },
   "file_extension": ".py",
   "mimetype": "text/x-python",
   "name": "python",
   "nbconvert_exporter": "python",
   "pygments_lexer": "ipython2",
   "version": "2.7.12"
  }
 },
 "nbformat": 4,
 "nbformat_minor": 2
}

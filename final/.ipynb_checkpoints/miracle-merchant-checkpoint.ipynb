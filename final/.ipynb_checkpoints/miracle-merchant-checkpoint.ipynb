{
 "cells": [
  {
   "cell_type": "code",
   "execution_count": 3,
   "metadata": {},
   "outputs": [],
   "source": [
    "# Imports\n",
    "\n",
    "from random import shuffle\n",
    "import csv\n",
    "import re"
   ]
  },
  {
   "cell_type": "code",
   "execution_count": 4,
   "metadata": {},
   "outputs": [
    {
     "data": {
      "text/plain": [
       "['B', 'R', 'G', 'B', 'G', 'Y', 'D', 'Y', 'G', 'R', 'Y', 'B', 'R']"
      ]
     },
     "execution_count": 4,
     "metadata": {},
     "output_type": "execute_result"
    }
   ],
   "source": [
    "# Make input lists\n",
    "\n",
    "startOrder = ['B', 'B', 'B', 'G', 'G', 'G', 'Y', 'Y', 'Y', 'R', 'R', 'R', 'D']\n",
    "\n",
    "needOrder = startOrder\n",
    "while (needOrder[0] == 'D' or needOrder[-1] == 'D'):\n",
    "    shuffle(needOrder)\n",
    "\n",
    "loveOrder = startOrder\n",
    "while (loveOrder[0] == 'D' or loveOrder[-1] == 'D'):\n",
    "    shuffle(loveOrder)\n",
    "    \n",
    "needOrder"
   ]
  },
  {
   "cell_type": "code",
   "execution_count": 5,
   "metadata": {},
   "outputs": [],
   "source": [
    "# Read a CSV to a list\n",
    "\n",
    "def readCSV(filename):\n",
    "    with open(filename, 'rb') as f:\n",
    "        reader = csv.reader(f)\n",
    "        your_list = list(reader)\n",
    "    return your_list"
   ]
  },
  {
   "cell_type": "code",
   "execution_count": 6,
   "metadata": {},
   "outputs": [
    {
     "name": "stdout",
     "output_type": "stream",
     "text": [
      "{'D**': 1, '**Y': 3, 'Y**': 1, 'B**': 2, '**R': 2, 'G**': 1, '**G': 2, '**D': 1, 'R**': 1, '**B': 0}\n",
      "2\n",
      "3\n",
      "4\n",
      "2\n",
      "3\n"
     ]
    }
   ],
   "source": [
    "game = readCSV(\"game.csv\")\n",
    "\n",
    "dictCards = {}\n",
    "for turn in game:\n",
    "    for color in turn:\n",
    "        #regexp = re.compile(r'\\*[BGYRD]\\*')\n",
    "        regexp = re.compile(r'[BGYRD]\\*\\*')\n",
    "        if regexp.search(color):\n",
    "            if color in dictCards:\n",
    "                dictCards[color] += 1\n",
    "            else:\n",
    "                dictCards[color] = 0\n",
    "\n",
    "for turn in game:\n",
    "    for color in turn:\n",
    "        #regexp = re.compile(r'\\*[BGYRD]\\*')\n",
    "        regexp = re.compile(r'\\*\\*[BGYRD]')\n",
    "        if regexp.search(color):\n",
    "            if color in dictCards:\n",
    "                dictCards[color] += 1\n",
    "            else:\n",
    "                dictCards[color] = 0\n",
    "\n",
    "print dictCards\n",
    "print dictCards['**D'] + dictCards['D**']\n",
    "print dictCards['**R'] + dictCards['R**']\n",
    "print dictCards['**Y'] + dictCards['Y**']\n",
    "print dictCards['**B'] + dictCards['B**']\n",
    "print dictCards['**G'] + dictCards['G**']"
   ]
  },
  {
   "cell_type": "code",
   "execution_count": 7,
   "metadata": {},
   "outputs": [],
   "source": [
    "# Play a card onto the table\n",
    "# in - array of cards on the table\n",
    "# in - card just played\n",
    "# in - position that the card was played at\n",
    "# out - updated cards on table\n",
    "\n",
    "def playCard(playedCards, currCard, position):\n",
    "    \n",
    "    cardColor = currCard[1]\n",
    "    cardLeft = currCard[2]\n",
    "    cardMiddle = currCard[3]\n",
    "    cardRight = currCard[4]\n",
    "    playedCards.insert(position, currCard)\n",
    "    \n",
    "    oldPoints = playedCards\n",
    "    \n",
    "    # Add points to the played card depending on the cards beside it\n",
    "    if (len(playedCards) > 1):\n",
    "        if (position > 0):\n",
    "            if (playedCards[position - 1][1] == cardLeft):\n",
    "                if (cardLeft == 'D'):\n",
    "                    playedCards[position - 1][0] += 1\n",
    "                else:\n",
    "                    playedCards[position][0] += oldPoints[position - 1][0]\n",
    "        if (position < len(playedCards) - 1):\n",
    "            if (playedCards[position + 1][1] == cardRight):\n",
    "                if (cardRight == 'D'):\n",
    "                    playedCards[position + 1][0] += 1\n",
    "                else:\n",
    "                    playedCards[position][0] += oldPoints[position + 1][0]\n",
    "    \n",
    "    # Go through each card left to right\n",
    "    for i, card in enumerate(playedCards):\n",
    "        \n",
    "        # See if the middle of the card is the card just added\n",
    "        if (card[1] == cardMiddle):\n",
    "            card[0] += 1\n",
    "            \n",
    "        # If we are looking at the card to the left of the\n",
    "        # card just played\n",
    "        if (i == position - 1):\n",
    "            if (playedCards[i][4] == cardColor):\n",
    "                if (cardColor == 'D'):\n",
    "                    playedCards[position] += 1\n",
    "                else:\n",
    "                    card[0] += oldPoints[i][0]\n",
    "        \n",
    "        # If we are looking at the card to the right of the\n",
    "        # card just played\n",
    "        if (i == position + 1):\n",
    "            if (playedCards[i][2] == cardColor):\n",
    "                if (cardColor == 'D'):\n",
    "                    playedCards[position] += 1\n",
    "                else:\n",
    "                    card[0] += oldPoints[i][0]\n",
    "                \n",
    "    return playedCards"
   ]
  },
  {
   "cell_type": "code",
   "execution_count": 8,
   "metadata": {},
   "outputs": [],
   "source": [
    "# Verify test\n",
    "\n",
    "def unitTest(result, verify):\n",
    "    if (not result == verify):\n",
    "        raise ValueError('Test Failed.\\n' + str(result) + '\\n!=\\n' + str(verify))"
   ]
  },
  {
   "cell_type": "code",
   "execution_count": 16,
   "metadata": {},
   "outputs": [
    {
     "name": "stdout",
     "output_type": "stream",
     "text": [
      "[[2, 'B', 'N', 'N', 'Y'], [1, 'Y', 'Y', 'N', 'B'], [2, 'G', 'Y', 'N', 'N'], [-3, 'D', 'N', 'N', 'N']]\n"
     ]
    },
    {
     "ename": "ValueError",
     "evalue": "Test Failed.\n[[2, 'B', 'N', 'N', 'Y'], [1, 'Y', 'Y', 'N', 'B'], [2, 'G', 'Y', 'N', 'N'], [-3, 'D', 'N', 'N', 'N']]\n!=\n[[-2, 'D', 'N', 'N', 'N'], [1, 'G', 'N', 'B', 'N'], [1, 'R', 'D', 'N', 'N'], [2, 'Y', 'R', 'N', 'N']]",
     "output_type": "error",
     "traceback": [
      "\u001b[0;31m---------------------------------------------------------------------------\u001b[0m",
      "\u001b[0;31mValueError\u001b[0m                                Traceback (most recent call last)",
      "\u001b[0;32m<ipython-input-16-84a9f1fab8dc>\u001b[0m in \u001b[0;36m<module>\u001b[0;34m()\u001b[0m\n\u001b[1;32m     24\u001b[0m \u001b[0;34m\u001b[0m\u001b[0m\n\u001b[1;32m     25\u001b[0m \u001b[0mtest3Solution\u001b[0m \u001b[0;34m=\u001b[0m \u001b[0;34m[\u001b[0m\u001b[0;34m[\u001b[0m\u001b[0;34m-\u001b[0m\u001b[0;36m2\u001b[0m\u001b[0;34m,\u001b[0m \u001b[0;34m'D'\u001b[0m\u001b[0;34m,\u001b[0m \u001b[0;34m'N'\u001b[0m\u001b[0;34m,\u001b[0m \u001b[0;34m'N'\u001b[0m\u001b[0;34m,\u001b[0m \u001b[0;34m'N'\u001b[0m\u001b[0;34m]\u001b[0m\u001b[0;34m,\u001b[0m \u001b[0;34m[\u001b[0m\u001b[0;36m1\u001b[0m\u001b[0;34m,\u001b[0m \u001b[0;34m'G'\u001b[0m\u001b[0;34m,\u001b[0m \u001b[0;34m'N'\u001b[0m\u001b[0;34m,\u001b[0m \u001b[0;34m'B'\u001b[0m\u001b[0;34m,\u001b[0m \u001b[0;34m'N'\u001b[0m\u001b[0;34m]\u001b[0m\u001b[0;34m,\u001b[0m \u001b[0;34m[\u001b[0m\u001b[0;36m1\u001b[0m\u001b[0;34m,\u001b[0m \u001b[0;34m'R'\u001b[0m\u001b[0;34m,\u001b[0m \u001b[0;34m'D'\u001b[0m\u001b[0;34m,\u001b[0m \u001b[0;34m'N'\u001b[0m\u001b[0;34m,\u001b[0m \u001b[0;34m'N'\u001b[0m\u001b[0;34m]\u001b[0m\u001b[0;34m,\u001b[0m \u001b[0;34m[\u001b[0m\u001b[0;36m2\u001b[0m\u001b[0;34m,\u001b[0m \u001b[0;34m'Y'\u001b[0m\u001b[0;34m,\u001b[0m \u001b[0;34m'R'\u001b[0m\u001b[0;34m,\u001b[0m \u001b[0;34m'N'\u001b[0m\u001b[0;34m,\u001b[0m \u001b[0;34m'N'\u001b[0m\u001b[0;34m]\u001b[0m\u001b[0;34m]\u001b[0m\u001b[0;34m\u001b[0m\u001b[0m\n\u001b[0;32m---> 26\u001b[0;31m \u001b[0munitTest\u001b[0m\u001b[0;34m(\u001b[0m\u001b[0mtest3\u001b[0m\u001b[0;34m,\u001b[0m \u001b[0mtest2Solution\u001b[0m\u001b[0;34m)\u001b[0m\u001b[0;34m\u001b[0m\u001b[0m\n\u001b[0m",
      "\u001b[0;32m<ipython-input-8-a20a2a86ce80>\u001b[0m in \u001b[0;36munitTest\u001b[0;34m(result, verify)\u001b[0m\n\u001b[1;32m      3\u001b[0m \u001b[0;32mdef\u001b[0m \u001b[0munitTest\u001b[0m\u001b[0;34m(\u001b[0m\u001b[0mresult\u001b[0m\u001b[0;34m,\u001b[0m \u001b[0mverify\u001b[0m\u001b[0;34m)\u001b[0m\u001b[0;34m:\u001b[0m\u001b[0;34m\u001b[0m\u001b[0m\n\u001b[1;32m      4\u001b[0m     \u001b[0;32mif\u001b[0m \u001b[0;34m(\u001b[0m\u001b[0;32mnot\u001b[0m \u001b[0mresult\u001b[0m \u001b[0;34m==\u001b[0m \u001b[0mverify\u001b[0m\u001b[0;34m)\u001b[0m\u001b[0;34m:\u001b[0m\u001b[0;34m\u001b[0m\u001b[0m\n\u001b[0;32m----> 5\u001b[0;31m         \u001b[0;32mraise\u001b[0m \u001b[0mValueError\u001b[0m\u001b[0;34m(\u001b[0m\u001b[0;34m'Test Failed.\\n'\u001b[0m \u001b[0;34m+\u001b[0m \u001b[0mstr\u001b[0m\u001b[0;34m(\u001b[0m\u001b[0mresult\u001b[0m\u001b[0;34m)\u001b[0m \u001b[0;34m+\u001b[0m \u001b[0;34m'\\n!=\\n'\u001b[0m \u001b[0;34m+\u001b[0m \u001b[0mstr\u001b[0m\u001b[0;34m(\u001b[0m\u001b[0mverify\u001b[0m\u001b[0;34m)\u001b[0m\u001b[0;34m)\u001b[0m\u001b[0;34m\u001b[0m\u001b[0m\n\u001b[0m",
      "\u001b[0;31mValueError\u001b[0m: Test Failed.\n[[2, 'B', 'N', 'N', 'Y'], [1, 'Y', 'Y', 'N', 'B'], [2, 'G', 'Y', 'N', 'N'], [-3, 'D', 'N', 'N', 'N']]\n!=\n[[-2, 'D', 'N', 'N', 'N'], [1, 'G', 'N', 'B', 'N'], [1, 'R', 'D', 'N', 'N'], [2, 'Y', 'R', 'N', 'N']]"
     ]
    }
   ],
   "source": [
    "# Unit tests\n",
    "\n",
    "test1 = playCard([], [1, 'R', 'N', 'N', 'G'], 0)\n",
    "test1 = playCard(test1, [1, 'B', 'R', 'N', 'N'], 1)\n",
    "test1 = playCard(test1, [1, 'G', 'B', 'N', 'R'], 0)\n",
    "test1 = playCard(test1, [1, 'Y', 'N', 'N', 'B'], 2)\n",
    "\n",
    "test1Solution = [[2, 'G', 'B', 'N', 'R'], [1, 'R', 'N', 'N', 'G'], [3, 'Y', 'N', 'N', 'B'], [2, 'B', 'R', 'N', 'N']]\n",
    "unitTest(test1, test1Solution)\n",
    "\n",
    "test2 = playCard([], [-3, 'D', 'N', 'N', 'N'], 0)\n",
    "test2 = playCard(test2, [1, 'R', 'D', 'N', 'N'], 1)\n",
    "test2 = playCard(test2, [1, 'Y', 'R', 'N', 'N'], 2)\n",
    "test2 = playCard(test2, [1, 'G', 'N', 'B', 'N'], 1)\n",
    "\n",
    "test2Solution = [[-2, 'D', 'N', 'N', 'N'], [1, 'G', 'N', 'B', 'N'], [1, 'R', 'D', 'N', 'N'], [2, 'Y', 'R', 'N', 'N']]\n",
    "unitTest(test2, test2Solution)\n",
    "\n",
    "test3 = playCard([], [1, 'Y', 'Y', 'N', 'B'], 0)\n",
    "test3 = playCard(test3, [1, 'B', 'N', 'N', 'Y'], 0)\n",
    "test3 = playCard(test3, [1, 'G', 'Y', 'N', 'N'], 2)\n",
    "test3 = playCard(test3, [-3, 'D', 'N', 'N', 'N'], 3)\n",
    "print test3\n",
    "\n",
    "test3Solution = [[-2, 'D', 'N', 'N', 'N'], [1, 'G', 'N', 'B', 'N'], [1, 'R', 'D', 'N', 'N'], [2, 'Y', 'R', 'N', 'N']]\n",
    "unitTest(test3, test2Solution)"
   ]
  }
 ],
 "metadata": {
  "kernelspec": {
   "display_name": "Python 2",
   "language": "python",
   "name": "python2"
  },
  "language_info": {
   "codemirror_mode": {
    "name": "ipython",
    "version": 2
   },
   "file_extension": ".py",
   "mimetype": "text/x-python",
   "name": "python",
   "nbconvert_exporter": "python",
   "pygments_lexer": "ipython2",
   "version": "2.7.13"
  }
 },
 "nbformat": 4,
 "nbformat_minor": 2
}

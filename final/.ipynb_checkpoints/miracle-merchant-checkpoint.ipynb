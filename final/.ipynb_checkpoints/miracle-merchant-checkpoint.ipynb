{
 "cells": [
  {
   "cell_type": "code",
   "execution_count": 3,
   "metadata": {},
   "outputs": [],
   "source": [
    "# Imports\n",
    "\n",
    "from random import shuffle"
   ]
  },
  {
   "cell_type": "code",
   "execution_count": 156,
   "metadata": {},
   "outputs": [
    {
     "name": "stdout",
     "output_type": "stream",
     "text": [
      "['B', 'Y', 'B', 'Y', 'G', 'B', 'R', 'G', 'D', 'R', 'R', 'G', 'Y']\n"
     ]
    }
   ],
   "source": [
    "# Make input lists\n",
    "\n",
    "startOrder = ['B', 'B', 'B', 'G', 'G', 'G', 'Y', 'Y', 'Y', 'R', 'R', 'R', 'D']\n",
    "\n",
    "needOrder = startOrder\n",
    "while (needOrder[0] == 'D' or needOrder[-1] == 'D'):\n",
    "    shuffle(needOrder)\n",
    "\n",
    "loveOrder = startOrder\n",
    "while (loveOrder[0] == 'D' or loveOrder[-1] == 'D'):\n",
    "    shuffle(loveOrder)\n",
    "\n"
   ]
  }
 ],
 "metadata": {
  "kernelspec": {
   "display_name": "Python 2",
   "language": "python",
   "name": "python2"
  },
  "language_info": {
   "codemirror_mode": {
    "name": "ipython",
    "version": 2
   },
   "file_extension": ".py",
   "mimetype": "text/x-python",
   "name": "python",
   "nbconvert_exporter": "python",
   "pygments_lexer": "ipython2",
   "version": "2.7.13"
  }
 },
 "nbformat": 4,
 "nbformat_minor": 2
}

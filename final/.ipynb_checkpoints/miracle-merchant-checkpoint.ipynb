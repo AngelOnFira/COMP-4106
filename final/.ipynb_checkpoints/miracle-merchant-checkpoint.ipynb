{
 "cells": [
  {
   "cell_type": "code",
   "execution_count": 2,
   "metadata": {},
   "outputs": [],
   "source": [
    "# Imports\n",
    "\n",
    "from random import shuffle\n",
    "import csv\n",
    "import re"
   ]
  },
  {
   "cell_type": "code",
   "execution_count": 8,
   "metadata": {},
   "outputs": [
    {
     "data": {
      "text/plain": [
       "['G', 'Y', 'Y', 'B', 'D', 'B', 'R', 'Y', 'G', 'G', 'R', 'R', 'B']"
      ]
     },
     "execution_count": 8,
     "metadata": {},
     "output_type": "execute_result"
    }
   ],
   "source": [
    "# Make input lists\n",
    "\n",
    "startOrder = ['B', 'B', 'B', 'G', 'G', 'G', 'Y', 'Y', 'Y', 'R', 'R', 'R', 'D']\n",
    "\n",
    "needOrder = startOrder\n",
    "while (needOrder[0] == 'D' or needOrder[-1] == 'D'):\n",
    "    shuffle(needOrder)\n",
    "\n",
    "loveOrder = startOrder\n",
    "while (loveOrder[0] == 'D' or loveOrder[-1] == 'D'):\n",
    "    shuffle(loveOrder)\n",
    "    \n",
    "needOrder"
   ]
  },
  {
   "cell_type": "code",
   "execution_count": 4,
   "metadata": {},
   "outputs": [],
   "source": [
    "# Read a CSV to a list\n",
    "\n",
    "def readCSV(filename):\n",
    "    with open(filename, 'rb') as f:\n",
    "        reader = csv.reader(f)\n",
    "        your_list = list(reader)\n",
    "    return your_list"
   ]
  },
  {
   "cell_type": "code",
   "execution_count": 12,
   "metadata": {},
   "outputs": [
    {
     "name": "stdout",
     "output_type": "stream",
     "text": [
      "{'D**': 1, '**Y': 3, 'Y**': 1, 'B**': 2, '**R': 2, 'G**': 1, '**G': 2, '**D': 1, 'R**': 1, '**B': 0}\n",
      "2\n",
      "3\n",
      "4\n",
      "2\n",
      "3\n"
     ]
    }
   ],
   "source": [
    "game = readCSV(\"game.csv\")\n",
    "\n",
    "dictCards = {}\n",
    "for turn in game:\n",
    "    for color in turn:\n",
    "        #regexp = re.compile(r'\\*[BGYRD]\\*')\n",
    "        regexp = re.compile(r'[BGYRD]\\*\\*')\n",
    "        if regexp.search(color):\n",
    "            if color in dictCards:\n",
    "                dictCards[color] += 1\n",
    "            else:\n",
    "                dictCards[color] = 0\n",
    "\n",
    "for turn in game:\n",
    "    for color in turn:\n",
    "        #regexp = re.compile(r'\\*[BGYRD]\\*')\n",
    "        regexp = re.compile(r'\\*\\*[BGYRD]')\n",
    "        if regexp.search(color):\n",
    "            if color in dictCards:\n",
    "                dictCards[color] += 1\n",
    "            else:\n",
    "                dictCards[color] = 0\n",
    "\n",
    "print dictCards\n",
    "print dictCards['**D'] + dictCards['D**']\n",
    "print dictCards['**R'] + dictCards['R**']\n",
    "print dictCards['**Y'] + dictCards['Y**']\n",
    "print dictCards['**B'] + dictCards['B**']\n",
    "print dictCards['**G'] + dictCards['G**']"
   ]
  },
  {
   "cell_type": "code",
   "execution_count": null,
   "metadata": {},
   "outputs": [],
   "source": [
    "# Play a card onto the table\n",
    "# in - array of cards on the table\n",
    "# in - card just played\n",
    "# in - position that the card was played at\n",
    "# out - the score of this hand\n",
    "\n",
    "def playCard(playedCards, currCard, position):\n",
    "    \n",
    "    cardColor = currCard[1]\n",
    "    cardLeft = currCard[2]\n",
    "    cardMiddle = currCard[3]\n",
    "    cardRight = currCard[4]\n",
    "    playedCards.insert(position, currCard)\n",
    "    \n",
    "    # Go through each card left to right\n",
    "    for i, card in enumerate(playedCards):\n",
    "        \n",
    "        # See if the middle of the card is the card just added\n",
    "        if (card[1] == cardMiddle):\n",
    "            card[0] += 1\n",
    "            \n",
    "        # If we are looking at the card to the left of the\n",
    "        # card just played\n",
    "        if (i == position - 1):\n",
    "            if (card[4] == cardColor):\n",
    "                card[0] += playedCards[position - 1][0]\n",
    "        \n",
    "        # If we are looking at the card to the right of the\n",
    "        # card just played\n",
    "        if (i == position + 1):\n",
    "            if (card[2] == cardColor):\n",
    "                card[0] += playedCards[position + 1][0]"
   ]
  },
  {
   "cell_type": "code",
   "execution_count": null,
   "metadata": {},
   "outputs": [],
   "source": [
    "# [points, color, left, middle, right]\n",
    "\n",
    "thisTurn = playCard([], [1, 'R', 'B', 'N', 'N'], 0)"
   ]
  }
 ],
 "metadata": {
  "kernelspec": {
   "display_name": "Python 2",
   "language": "python",
   "name": "python2"
  },
  "language_info": {
   "codemirror_mode": {
    "name": "ipython",
    "version": 2
   },
   "file_extension": ".py",
   "mimetype": "text/x-python",
   "name": "python",
   "nbconvert_exporter": "python",
   "pygments_lexer": "ipython2",
   "version": "2.7.12"
  }
 },
 "nbformat": 4,
 "nbformat_minor": 2
}
